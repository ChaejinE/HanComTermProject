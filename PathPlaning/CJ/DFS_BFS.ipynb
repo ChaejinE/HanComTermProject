{
  "nbformat": 4,
  "nbformat_minor": 0,
  "metadata": {
    "colab": {
      "name": "DFS_BFS",
      "provenance": [],
      "authorship_tag": "ABX9TyPyhbYgIWw1NnzXien3kTuy",
      "include_colab_link": true
    },
    "kernelspec": {
      "name": "python3",
      "display_name": "Python 3"
    },
    "language_info": {
      "name": "python"
    }
  },
  "cells": [
    {
      "cell_type": "markdown",
      "metadata": {
        "id": "view-in-github",
        "colab_type": "text"
      },
      "source": [
        "<a href=\"https://colab.research.google.com/github/ChaejinE/HanComTermProject/blob/main/PathPlaning/CJ/DFS_BFS.ipynb\" target=\"_parent\"><img src=\"https://colab.research.google.com/assets/colab-badge.svg\" alt=\"Open In Colab\"/></a>"
      ]
    },
    {
      "cell_type": "markdown",
      "metadata": {
        "id": "lV7DWjSNigw9"
      },
      "source": [
        "**DFS**\n"
      ]
    },
    {
      "cell_type": "code",
      "metadata": {
        "cellView": "code",
        "id": "0djaTMGWW7cU"
      },
      "source": [
        "#@title 기본 제목 텍스트\n",
        "def test_case():\n",
        "    yield '4 5'\n",
        "    yield '00110'\n",
        "    yield '00011'\n",
        "    yield '11111'\n",
        "    yield '00000'\n",
        "\n",
        "def input():\n",
        "    return next(G)\n",
        "\n",
        "G = test_case()"
      ],
      "execution_count": 111,
      "outputs": []
    },
    {
      "cell_type": "code",
      "metadata": {
        "colab": {
          "base_uri": "https://localhost:8080/"
        },
        "id": "ZNLw0p7fXoCG",
        "outputId": "e1aeaceb-699b-4b83-a001-229ab3f5e109"
      },
      "source": [
        "n,m = map(int, input().split(' '))\n",
        "n, m"
      ],
      "execution_count": 112,
      "outputs": [
        {
          "output_type": "execute_result",
          "data": {
            "text/plain": [
              "(4, 5)"
            ]
          },
          "metadata": {
            "tags": []
          },
          "execution_count": 112
        }
      ]
    },
    {
      "cell_type": "code",
      "metadata": {
        "colab": {
          "base_uri": "https://localhost:8080/"
        },
        "id": "OaixHJDQXww4",
        "outputId": "6d646955-d8ee-435e-91d8-367b5b011cbe"
      },
      "source": [
        "dfs_map = []\n",
        "for i in range(n):\n",
        "    dfs_map.append(list(map(int, input())))\n",
        "dfs_map"
      ],
      "execution_count": 113,
      "outputs": [
        {
          "output_type": "execute_result",
          "data": {
            "text/plain": [
              "[[0, 0, 1, 1, 0], [0, 0, 0, 1, 1], [1, 1, 1, 1, 1], [0, 0, 0, 0, 0]]"
            ]
          },
          "metadata": {
            "tags": []
          },
          "execution_count": 113
        }
      ]
    },
    {
      "cell_type": "code",
      "metadata": {
        "id": "XHFzC_o6YI1L"
      },
      "source": [
        "count = 0\n",
        "def dfs(inputs, start):\n",
        "    global count\n",
        "    i, j = start\n",
        "    if i < 0 or i > n - 1 or j < 0 or j > m - 1:\n",
        "        return False\n",
        "\n",
        "    if inputs[i][j] != 1:\n",
        "        inputs[i][j] = 1\n",
        "\n",
        "        left_side = (i, j - 1)\n",
        "        right_side = (i, j + 1)\n",
        "        up_side = (i - 1, j)\n",
        "        down_side = (i + 1, j)\n",
        "\n",
        "        dfs(inputs, left_side)\n",
        "        dfs(inputs, right_side)\n",
        "        dfs(inputs, up_side)\n",
        "        dfs(inputs, down_side)\n",
        "        return True\n",
        "    return False\n"
      ],
      "execution_count": 114,
      "outputs": []
    },
    {
      "cell_type": "code",
      "metadata": {
        "id": "HKysXXu5YOhd"
      },
      "source": [
        "for i in range(n):\n",
        "    for j in range(m):\n",
        "        if dfs(dfs_map, (i, j)):\n",
        "            count += 1"
      ],
      "execution_count": null,
      "outputs": []
    },
    {
      "cell_type": "code",
      "metadata": {
        "colab": {
          "base_uri": "https://localhost:8080/"
        },
        "id": "TJZo7vbpbDTZ",
        "outputId": "29f93fb1-782e-4891-c5bb-844283af5b08"
      },
      "source": [
        "count"
      ],
      "execution_count": 116,
      "outputs": [
        {
          "output_type": "execute_result",
          "data": {
            "text/plain": [
              "3"
            ]
          },
          "metadata": {
            "tags": []
          },
          "execution_count": 116
        }
      ]
    },
    {
      "cell_type": "markdown",
      "metadata": {
        "id": "7H_QzhMmisWi"
      },
      "source": [
        "BFS"
      ]
    },
    {
      "cell_type": "code",
      "metadata": {
        "id": "W90HbqFpb1vv"
      },
      "source": [
        "def test_case():\n",
        "    yield '5 6'\n",
        "    yield '106010'\n",
        "    yield '125456'\n",
        "    yield '000007'\n",
        "    yield '111118'\n",
        "    yield '111111'\n",
        "\n",
        "def input():\n",
        "    return next(G)\n",
        "\n",
        "G = test_case()"
      ],
      "execution_count": 1,
      "outputs": []
    },
    {
      "cell_type": "code",
      "metadata": {
        "id": "F4xpbTT9cUdO"
      },
      "source": [
        "from collections import deque"
      ],
      "execution_count": 2,
      "outputs": []
    },
    {
      "cell_type": "code",
      "metadata": {
        "colab": {
          "base_uri": "https://localhost:8080/"
        },
        "id": "BtwMdAjJpA-0",
        "outputId": "23f74238-b720-4ea8-e9f4-a1f7021e2621"
      },
      "source": [
        "n,m = map(int, input().split(' '))\n",
        "n, m"
      ],
      "execution_count": 3,
      "outputs": [
        {
          "output_type": "execute_result",
          "data": {
            "text/plain": [
              "(5, 6)"
            ]
          },
          "metadata": {
            "tags": []
          },
          "execution_count": 3
        }
      ]
    },
    {
      "cell_type": "code",
      "metadata": {
        "colab": {
          "base_uri": "https://localhost:8080/"
        },
        "id": "nF9TND3dpWdh",
        "outputId": "1ed33f67-8386-4c5f-82ed-280b8a4bac89"
      },
      "source": [
        "bfs_map = []\n",
        "for i in range(n):\n",
        "    bfs_map.append(list(map(int, input())))\n",
        "bfs_map"
      ],
      "execution_count": 4,
      "outputs": [
        {
          "output_type": "execute_result",
          "data": {
            "text/plain": [
              "[[1, 0, 6, 0, 1, 0],\n",
              " [1, 2, 5, 4, 5, 6],\n",
              " [0, 0, 0, 0, 0, 7],\n",
              " [1, 1, 1, 1, 1, 8],\n",
              " [1, 1, 1, 1, 1, 1]]"
            ]
          },
          "metadata": {
            "tags": []
          },
          "execution_count": 4
        }
      ]
    },
    {
      "cell_type": "code",
      "metadata": {
        "id": "bdPuB-bHpZhc"
      },
      "source": [
        "count = 0\n",
        "def bfs(input_map, start):\n",
        "    global count\n",
        "    x, y =  start\n",
        "    \n",
        "    dq = deque()\n",
        "    dq.append((x, y))\n",
        "    \n",
        "    while dq:\n",
        "        x, y = dq.popleft()\n",
        "        delta = [(-1, 0), (1, 0), (0, -1), (0, 1)]\n",
        "\n",
        "        for dx, dy in delta:\n",
        "            nx = x + dx\n",
        "            ny = y + dy\n",
        "            if nx < 0 or nx > n - 1 or ny < 0 or ny > m - 1 or input_map[nx][ny] == 0:\n",
        "                continue\n",
        "            if input_map[nx][ny] == 1:\n",
        "                input_map[nx][ny] = input_map[x][y] + 1\n",
        "                dq.append((nx, ny))\n",
        "\n",
        "    return input_map[n-1][m-1]                \n",
        "        \n",
        "\n"
      ],
      "execution_count": 11,
      "outputs": []
    },
    {
      "cell_type": "code",
      "metadata": {
        "colab": {
          "base_uri": "https://localhost:8080/"
        },
        "id": "ZLRmpk-HsTjC",
        "outputId": "a3abcdef-31c7-4c5b-9af1-2f8f8c460743"
      },
      "source": [
        "bfs(bfs_map, (0, 0))"
      ],
      "execution_count": 12,
      "outputs": [
        {
          "output_type": "execute_result",
          "data": {
            "text/plain": [
              "10"
            ]
          },
          "metadata": {
            "tags": []
          },
          "execution_count": 12
        }
      ]
    },
    {
      "cell_type": "code",
      "metadata": {
        "id": "trvUQP93scV6"
      },
      "source": [
        ""
      ],
      "execution_count": null,
      "outputs": []
    }
  ]
}